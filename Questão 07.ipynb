{
 "cells": [
  {
   "cell_type": "markdown",
   "metadata": {},
   "source": [
    "# Questão 07"
   ]
  },
  {
   "cell_type": "markdown",
   "metadata": {},
   "source": [
    "Considerando X uma variável aleatória com ditribuição normal, sua função densidade de probabilidade é dada por:\n",
    "\n",
    "$$f(x_i, \\mu, \\sigma) = \\frac{1}{\\sigma\\sqrt{2\\pi}}exp\\left[-\\frac{(x_i - \\mu)^2}{2\\sigma^2}\\right]$$\n",
    "\n",
    "Com $-\\infty < \\mu < \\infty$ e $0 < \\sigma^2 < \\infty$.\n",
    "\n",
    "A função de verossimilhança torna-se:\n",
    "\n",
    "$$L(\\mu, \\sigma^2) = \\prod_{i=1}^n{f(x_i, \\mu, \\sigma^2)} = \\frac{1}{\\sigma\\sqrt{2\\pi}}exp\\left[-\\frac{(x_1 - \\mu)^2}{2\\sigma^2}\\right] \\cdot \\frac{1}{\\sigma\\sqrt{2\\pi}}exp\\left[-\\frac{(x_2 - \\mu)^2}{2\\sigma^2}\\right] \\cdot \\ldots \\cdot \\frac{1}{\\sigma\\sqrt{2\\pi}}exp\\left[-\\frac{(x_n - \\mu)^2}{2\\sigma^2}\\right]$$\n",
    "\n",
    "$$L(\\mu, \\sigma^2) = \\frac{1}{\\sigma^n\\sqrt{(2\\pi)^n}}exp\\left[-\\frac{1}{2\\sigma^2} \\sum_{i=1}^n{(x_i - \\mu)^2}\\right]$$\n",
    "\n",
    "$$L(\\mu, \\sigma^2) = \\sigma^{-n}(2\\pi)^{-n/2}exp\\left[-\\frac{1}{2\\sigma^2} \\sum_{i=1}^n{(x_i - \\mu)^2}\\right]$$\n",
    "\n",
    "$$\\ln(L(\\mu, \\sigma^2)) = -n\\ln(\\sigma)-\\frac{n}{2}\\ln(2\\pi)-\\frac{\\sum_{i=1}^n{(x_i - \\mu)^2}}{2\\sigma^2}$$"
   ]
  },
  {
   "cell_type": "markdown",
   "metadata": {},
   "source": [
    "## Calculando o estimador de máxima verossimilhança $\\hat\\mu$:\n",
    "\n",
    "$$\\frac{\\partial \\ln(L(\\mu, \\sigma^2))}{\\partial \\mu} = -\\frac{2\\sum_{i=1}^n{(x_i - \\mu)(-1)}}{2\\sigma^2}$$\n",
    "\n",
    "$$\\frac{\\partial \\ln(L(\\mu, \\sigma^2))}{\\partial \\mu} = \\sum_{i=1}^n{x_i} - n\\mu$$\n",
    "\n",
    "Substituindo $\\mu$ por $\\hat\\mu$ e igualando a zero:\n",
    "\n",
    "$$\\sum_{i=1}^n{x_i} - n\\hat\\mu = 0$$\n",
    "\n",
    "$$\\hat\\mu = \\frac{\\sum_{i=1}^n{x_i}}{n} = \\bar{x}$$"
   ]
  },
  {
   "cell_type": "markdown",
   "metadata": {},
   "source": [
    "## Calculando o estimador de máxima verossimilhança $\\hat\\sigma^2$:\n",
    "\n",
    "Fazendo $\\sigma^2 = \\theta$:\n",
    "\n",
    "$$\\ln(L(\\mu, \\theta)) = -\\frac{n}{2}\\ln(\\theta)-\\frac{n}{2}\\ln(2\\pi)-\\frac{\\sum_{i=1}^n{(x_i - \\mu)^2}}{2\\theta}$$\n",
    "\n",
    "$$\\frac{\\partial \\ln(L(\\mu, \\theta))}{\\partial \\theta} = -\\frac{n}{2\\theta} + \\frac{\\sum_{i=1}^n{(x_i - \\mu)^2}}{2\\theta^2}$$\n",
    "\n",
    "Igualando a zero e e multiplicando por $2\\theta^2$:\n",
    "\n",
    "$$-n\\theta + \\sum_{i=1}^n{(x_i - \\mu)^2}$$\n",
    "\n",
    "Fazendo $\\theta = \\hat\\sigma^2$:\n",
    "\n",
    "$$-n\\hat\\sigma^2 + \\sum_{i=1}^n{(x_i - \\mu)^2}$$\n",
    "\n",
    "\n",
    "$$\\hat\\sigma^2 = \\frac{\\sum_{i=1}^n{(x_i - \\bar{x})^2}}{n}$$"
   ]
  },
  {
   "cell_type": "markdown",
   "metadata": {},
   "source": [
    "## Generalizando para o vetor X\n",
    "\n",
    "$$f(x|\\mu,C)=(2\\pi)^{-p/2}\\det(C)^{-1/2}exp\\left[-\\frac{(x-\\mu)^t C^{-1} (x-\\mu)}{2}\\right]$$\n"
   ]
  },
  {
   "cell_type": "markdown",
   "metadata": {},
   "source": [
    "$$L(\\mu, C) = \\prod_{i=1}^n{f(x_i|\\mu, C)} = (2\\pi)^{-p/2}\\det(C)^{-1/2}exp\\left[-\\frac{(x_1-\\mu)^t C^{-1} (x_1-\\mu)}{2}\\right] \\cdot (2\\pi)^{-p/2}\\det(C)^{-1/2}exp\\left[-\\frac{(x_2-\\mu)^t C^{-1} (x_2-\\mu)}{2}\\right] \\cdot \\ldots \\cdot (2\\pi)^{-p/2}\\det(C)^{-1/2}exp\\left[-\\frac{(x_n-\\mu)^t C^{-1} (x_n-\\mu)}{2}\\right]$$\n",
    "\n",
    "$$L(\\mu, C) = (2\\pi)^{-np/2}\\det(C)^{-n/2}exp\\left[-\\frac{1}{2}\\sum_{i=1}^n{(x-\\mu_i)^t C^{-1} (x-\\mu_i)}\\right]$$"
   ]
  },
  {
   "cell_type": "markdown",
   "metadata": {},
   "source": [
    "$$\\ln (L(\\mu, C)) = -\\frac{np}{2}\\ln(2\\pi)-\\frac{n}{2}\\ln[\\det(C)]-\\left[\\frac{1}{2}\\sum_{i=1}^n{(x_i-\\mu)^t C^{-1} (x_i-\\mu)}\\right]$$"
   ]
  },
  {
   "cell_type": "markdown",
   "metadata": {},
   "source": [
    "## Calculando o estimador de máxima verossimilhança $\\hat\\mu$:\n",
    "\n",
    "Derivando em função de $\\mu$:\n",
    "\n",
    "$$\\frac{\\partial \\ln (L(\\mu, C))}{\\partial \\mu} = -\\frac{\\partial \\left[\\frac{1}{2}\\sum_{i=1}^n{(x_i-\\mu)^t C^{-1} (x_i-\\mu)}\\right]}{\\partial \\mu}$$\n",
    "\n",
    "\n",
    "$$\\frac{\\partial \\ln (L(\\mu, C))}{\\partial \\mu} = \\sum_{i=1}^n{(x_i-\\mu)^t C^{-1}}$$\n",
    "\n",
    "Fazendo $\\mu=\\hat\\mu$ e igualando a zero:\n",
    "\n",
    "$$\\sum_{i=1}^n{(x_i-\\hat\\mu)^t C^{-1}} = 0$$\n",
    "\n",
    "$$\\sum_{i=1}^n{x_i-\\hat\\mu} = 0$$\n",
    "\n",
    "$$\\hat\\mu = \\frac{1}{n}\\sum_{i=1}^n{x_i}$$"
   ]
  },
  {
   "cell_type": "markdown",
   "metadata": {},
   "source": [
    "## Calculando o estimador de máxima verossimilhança $\\hat C$:\n",
    "\n",
    "Sabendo que:\n",
    "\n",
    "$I.\\quad x^TAx = traço[x^TAx] = traço[xx^TA]$\n",
    "\n",
    "$II.\\quad \\frac{\\partial}{\\partial A} tr[BA] = B^T$\n",
    "\n",
    "$III. \\quad \\frac{\\partial}{\\partial A} \\ln[det(A)] = A^{-T}$\n",
    "\n",
    "Pode-se modificar a função de verossimilhança:\n",
    "\n",
    "$$\\ln (L(\\mu, C)) = -\\frac{np}{2}\\ln(2\\pi)-\\frac{n}{2}\\ln[\\det(C)]-\\left[\\frac{1}{2}\\sum_{i=1}^n{(x_i-\\mu)^t C^{-1} (x_i-\\mu)}\\right]$$\n",
    "\n",
    "$$\\ln (L(\\mu, C)) = -\\frac{np}{2}\\ln(2\\pi)+\\frac{n}{2}\\ln[\\det(C^{-1})]-\\left[\\frac{1}{2}\\sum_{i=1}^n{tr[(x_i-\\mu)^t C^{-1} (x_i-\\mu)]}\\right]$$\n",
    "\n",
    "$$\\ln (L(\\mu, C)) = -\\frac{np}{2}\\ln(2\\pi)+\\frac{n}{2}\\ln[\\det(C^{-1})]-\\left[\\frac{1}{2}\\sum_{i=1}^n{tr[(x_i-\\mu)(x_i-\\mu)^t C^{-1}]}\\right]$$\n",
    "\n",
    "Derivando em função de $C^{-1}$\n",
    "\n",
    "$$\\frac{\\partial \\ln (L(\\mu, C))}{\\partial C^{-1}} = \\frac{n}{2}C-\\frac{1}{2}\\sum_{i=1}^n{(x_i-\\mu)(x_i-\\mu)^t} $$\n",
    "\n",
    "Fazendo $C = \\hat C$ e igualando a zero:\n",
    "\n",
    "$$\\hat C = \\frac{1}{n}\\sum_{i=1}^n{(x_i-\\hat \\mu)(x_i-\\hat \\mu)^t} $$"
   ]
  },
  {
   "cell_type": "markdown",
   "metadata": {},
   "source": [
    "#### Referência\n",
    "\n",
    "https://people.eecs.berkeley.edu/~jordan/courses/260-spring10/other-readings/chapter13.pdf"
   ]
  }
 ],
 "metadata": {
  "kernelspec": {
   "display_name": "Python 3",
   "language": "python",
   "name": "python3"
  },
  "language_info": {
   "codemirror_mode": {
    "name": "ipython",
    "version": 3
   },
   "file_extension": ".py",
   "mimetype": "text/x-python",
   "name": "python",
   "nbconvert_exporter": "python",
   "pygments_lexer": "ipython3",
   "version": "3.6.5"
  }
 },
 "nbformat": 4,
 "nbformat_minor": 2
}
