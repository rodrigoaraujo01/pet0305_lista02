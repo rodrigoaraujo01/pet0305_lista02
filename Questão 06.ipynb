{
 "cells": [
  {
   "cell_type": "markdown",
   "metadata": {},
   "source": [
    "# Questão 6"
   ]
  },
  {
   "cell_type": "markdown",
   "metadata": {},
   "source": [
    "$P(F|E) = 0.8$\n",
    "$P(F'|E) = 0.2$\n",
    "$P(F|E') = 0.3$\n",
    "$P(F'|E') = 0.7$\n",
    "\n",
    "\n",
    "(I) $P(E|F) = \\frac{P(F|E)P(E)}{P(F)} $\n",
    "\n",
    "(II) $P(E'|F) = \\frac{P(F|E')P(E')}{P(F)} $\n",
    "\n",
    "(III) $P(E|F') = \\frac{P(F'|E)P(E)}{P(F')} $\n",
    "\n",
    "(IV) $P(E'|F') = \\frac{P(F'|E')P(E')}{P(F')} $\n",
    "\n",
    "$P(E'|F) = 1 - P(E|F)$\n",
    "\n",
    "$\\frac{P(F|E')P(E')}{P(F)} = 1 - \\frac{P(F|E)P(E)}{P(F)}$\n",
    "\n",
    "$\\frac{0.3 * 0.8}{P(F)} = 1 - \\frac{0.8 * 0.2}{P(F)}$\n",
    "\n",
    "$\\frac{0.24}{P(F)} = \\frac{P(F)-0.16}{P(F)}$\n",
    "\n",
    "$P^2(F) -0.4P(F) = 0$\n",
    "\n",
    "$P(F)(P(F) -0.4) = 0$\n",
    "\n",
    "$P(F) \\in \\{0, 0.4\\}$\n",
    "\n",
    "$P(F') \\in \\{0, 0.6\\}$"
   ]
  }
 ],
 "metadata": {
  "kernelspec": {
   "display_name": "Python 3",
   "language": "python",
   "name": "python3"
  },
  "language_info": {
   "codemirror_mode": {
    "name": "ipython",
    "version": 3
   },
   "file_extension": ".py",
   "mimetype": "text/x-python",
   "name": "python",
   "nbconvert_exporter": "python",
   "pygments_lexer": "ipython3",
   "version": "3.6.5"
  }
 },
 "nbformat": 4,
 "nbformat_minor": 2
}
